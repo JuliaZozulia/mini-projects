{
 "cells": [
  {
   "cell_type": "markdown",
   "metadata": {},
   "source": [
    "Welcome to the SQL mini project. For this project, you will use Springboard' online SQL platform, which you can log into through the following link:\n",
    "\n",
    "https://sql.springboard.com/\n",
    "\n",
    "Username: student\n",
    "\n",
    "Password: learn_sql@springboard\n",
    "\n",
    "The data you need is in the \"country_club\" database. This database\n",
    "contains 3 tables:\n",
    "\n",
    "    i) the \"Bookings\" table,\n",
    "    \n",
    "    ii) the \"Facilities\" table, and\n",
    "    \n",
    "    iii) the \"Members\" table.\n"
   ]
  },
  {
   "cell_type": "markdown",
   "metadata": {},
   "source": [
    "Before executing queries, let's create database in MySQL terminal as follows:\n",
    "\n",
    "mysql> CREATE DATABASE country_club;\n",
    "\n",
    "mysql> use country_club;\n",
    "\n",
    "mysql> source country_club.sql\n",
    "\n",
    "\n",
    "And connect to newly created database:"
   ]
  },
  {
   "cell_type": "code",
   "execution_count": 12,
   "metadata": {},
   "outputs": [],
   "source": [
    "import mysql.connector\n",
    "\n",
    "mydb = mysql.connector.connect(\n",
    "  host=\"localhost\",\n",
    "  user=\"root\",\n",
    "  passwd=\"admin\",\n",
    "  database=\"country_club\"\n",
    ")\n",
    "\n",
    "cursor = mydb.cursor()"
   ]
  },
  {
   "cell_type": "markdown",
   "metadata": {},
   "source": [
    "#### Q1: Some of the facilities charge a fee to members, but some do not. Please list the names of the facilities that do."
   ]
  },
  {
   "cell_type": "code",
   "execution_count": 13,
   "metadata": {},
   "outputs": [
    {
     "name": "stdout",
     "output_type": "stream",
     "text": [
      "(0, 'Tennis Court 1', Decimal('5.0'), Decimal('25.0'), 10000, 200)\n",
      "(1, 'Tennis Court 2', Decimal('5.0'), Decimal('25.0'), 8000, 200)\n",
      "(4, 'Massage Room 1', Decimal('9.9'), Decimal('80.0'), 4000, 3000)\n",
      "(5, 'Massage Room 2', Decimal('9.9'), Decimal('80.0'), 4000, 3000)\n",
      "(6, 'Squash Court', Decimal('3.5'), Decimal('17.5'), 5000, 80)\n"
     ]
    }
   ],
   "source": [
    "query = (\"SELECT * FROM `Facilities` WHERE `membercost` > 0\")\n",
    "\n",
    "cursor.execute(query)\n",
    "for x in cursor:\n",
    "    print(x)"
   ]
  },
  {
   "cell_type": "markdown",
   "metadata": {},
   "source": [
    "#### Q2: How many facilities do not charge a fee to members? "
   ]
  },
  {
   "cell_type": "code",
   "execution_count": 14,
   "metadata": {},
   "outputs": [
    {
     "name": "stdout",
     "output_type": "stream",
     "text": [
      "(4,)\n"
     ]
    }
   ],
   "source": [
    "query = (\"SELECT COUNT(*) FROM `Facilities` WHERE `membercost` = 0\")\n",
    "\n",
    "cursor.execute(query)\n",
    "for x in cursor:\n",
    "    print(x)"
   ]
  },
  {
   "cell_type": "markdown",
   "metadata": {},
   "source": [
    "#### Q3: How can you produce a list of facilities that charge a fee to members, where the fee is less than 20% of the facility's monthly maintenance cost? Return the facid, facility name, member cost, and monthly maintenance of the facilities in question."
   ]
  },
  {
   "cell_type": "code",
   "execution_count": 16,
   "metadata": {},
   "outputs": [
    {
     "name": "stdout",
     "output_type": "stream",
     "text": [
      "(0, 'Tennis Court 1', Decimal('5.0'), 200)\n",
      "(1, 'Tennis Court 2', Decimal('5.0'), 200)\n",
      "(4, 'Massage Room 1', Decimal('9.9'), 3000)\n",
      "(5, 'Massage Room 2', Decimal('9.9'), 3000)\n",
      "(6, 'Squash Court', Decimal('3.5'), 80)\n"
     ]
    }
   ],
   "source": [
    "query = (\"SELECT `facid`, `name`, `membercost`, `monthlymaintenance` \\\n",
    "         FROM `Facilities` \\\n",
    "         WHERE `membercost` > 0 \\\n",
    "         AND `membercost` <  `monthlymaintenance` * 0.2 \")\n",
    "\n",
    "cursor.execute(query)\n",
    "for x in cursor:\n",
    "    print(x)"
   ]
  },
  {
   "cell_type": "markdown",
   "metadata": {},
   "source": [
    "#### Q4: How can you retrieve the details of facilities with ID 1 and 5? Write the query without using the OR operator."
   ]
  },
  {
   "cell_type": "code",
   "execution_count": 17,
   "metadata": {},
   "outputs": [
    {
     "name": "stdout",
     "output_type": "stream",
     "text": [
      "(1, 'Tennis Court 2', Decimal('5.0'), Decimal('25.0'), 8000, 200)\n",
      "(5, 'Massage Room 2', Decimal('9.9'), Decimal('80.0'), 4000, 3000)\n"
     ]
    }
   ],
   "source": [
    "query = (\"SELECT * FROM `Facilities` WHERE `facid` IN (1,5)\")\n",
    "\n",
    "cursor.execute(query)\n",
    "for x in cursor:\n",
    "    print(x)"
   ]
  },
  {
   "cell_type": "markdown",
   "metadata": {},
   "source": [
    "#### Q5: How can you produce a list of facilities, with each labelled as 'cheap' or 'expensive', depending on if their monthly maintenance cost is more than $100? Return the name and monthly maintenance of the facilities in question."
   ]
  },
  {
   "cell_type": "code",
   "execution_count": 18,
   "metadata": {},
   "outputs": [
    {
     "name": "stdout",
     "output_type": "stream",
     "text": [
      "('Tennis Court 1', 200, 'expensive')\n",
      "('Tennis Court 2', 200, 'expensive')\n",
      "('Badminton Court', 50, 'cheap')\n",
      "('Table Tennis', 10, 'cheap')\n",
      "('Massage Room 1', 3000, 'expensive')\n",
      "('Massage Room 2', 3000, 'expensive')\n",
      "('Squash Court', 80, 'cheap')\n",
      "('Snooker Table', 15, 'cheap')\n",
      "('Pool Table', 15, 'cheap')\n"
     ]
    }
   ],
   "source": [
    "query = (\"SELECT `name`, `monthlymaintenance`, \\\n",
    "         CASE \\\n",
    "             WHEN  `monthlymaintenance`> 100 \\\n",
    "             THEN 'expensive' \\\n",
    "             ELSE 'cheap' \\\n",
    "         END \\\n",
    "         FROM `Facilities`\")\n",
    "\n",
    "cursor.execute(query)\n",
    "for x in cursor:\n",
    "    print(x)\n"
   ]
  },
  {
   "cell_type": "markdown",
   "metadata": {},
   "source": [
    "#### Q6: You'd like to get the first and last name of the last member(s) who signed up. Do not use the LIMIT clause for your solution."
   ]
  },
  {
   "cell_type": "code",
   "execution_count": 19,
   "metadata": {},
   "outputs": [
    {
     "name": "stdout",
     "output_type": "stream",
     "text": [
      "('Smith', 'Darren', '2012-09-26 18:08:45')\n"
     ]
    }
   ],
   "source": [
    "query = (\"SELECT  `surname`, `firstname`,`joindate` \\\n",
    "         FROM `Members` \\\n",
    "         WHERE `joindate` = \\\n",
    "         (SELECT MAX(`joindate`) FROM `Members`)\")\n",
    "\n",
    "cursor.execute(query)\n",
    "for x in cursor:\n",
    "    print(x)"
   ]
  },
  {
   "cell_type": "markdown",
   "metadata": {},
   "source": [
    "#### Q7: How can you produce a list of all members who have used a tennis court? Include in your output the name of the court, and the name of the member formatted as a single column. Ensure no duplicate data, and order by the member name."
   ]
  },
  {
   "cell_type": "code",
   "execution_count": 20,
   "metadata": {},
   "outputs": [
    {
     "name": "stdout",
     "output_type": "stream",
     "text": [
      "('Bader Florence', 'Tennis Court 1')\n",
      "('Bader Florence', 'Tennis Court 2')\n",
      "('Baker Anne', 'Tennis Court 2')\n",
      "('Baker Anne', 'Tennis Court 1')\n",
      "('Baker Timothy', 'Tennis Court 1')\n",
      "('Baker Timothy', 'Tennis Court 2')\n",
      "('Boothe Tim', 'Tennis Court 2')\n",
      "('Boothe Tim', 'Tennis Court 1')\n",
      "('Butters Gerald', 'Tennis Court 2')\n",
      "('Butters Gerald', 'Tennis Court 1')\n",
      "('Coplin Joan', 'Tennis Court 1')\n",
      "('Crumpet Erica', 'Tennis Court 1')\n",
      "('Dare Nancy', 'Tennis Court 2')\n",
      "('Dare Nancy', 'Tennis Court 1')\n",
      "('Farrell David', 'Tennis Court 1')\n",
      "('Farrell David', 'Tennis Court 2')\n",
      "('Farrell Jemima', 'Tennis Court 2')\n",
      "('Farrell Jemima', 'Tennis Court 1')\n",
      "('Genting Matthew', 'Tennis Court 1')\n",
      "('GUEST GUEST', 'Tennis Court 2')\n",
      "('GUEST GUEST', 'Tennis Court 1')\n",
      "('Hunt John', 'Tennis Court 1')\n",
      "('Hunt John', 'Tennis Court 2')\n",
      "('Jones David', 'Tennis Court 1')\n",
      "('Jones David', 'Tennis Court 2')\n",
      "('Jones Douglas', 'Tennis Court 1')\n",
      "('Joplette Janice', 'Tennis Court 1')\n",
      "('Joplette Janice', 'Tennis Court 2')\n",
      "('Owen Charles', 'Tennis Court 2')\n",
      "('Owen Charles', 'Tennis Court 1')\n",
      "('Pinker David', 'Tennis Court 1')\n",
      "('Purview Millicent', 'Tennis Court 2')\n",
      "('Rownam Tim', 'Tennis Court 1')\n",
      "('Rownam Tim', 'Tennis Court 2')\n",
      "('Rumney Henrietta', 'Tennis Court 2')\n",
      "('Sarwin Ramnaresh', 'Tennis Court 2')\n",
      "('Sarwin Ramnaresh', 'Tennis Court 1')\n",
      "('Smith Darren', 'Tennis Court 2')\n",
      "('Smith Jack', 'Tennis Court 1')\n",
      "('Smith Jack', 'Tennis Court 2')\n",
      "('Smith Tracy', 'Tennis Court 2')\n",
      "('Smith Tracy', 'Tennis Court 1')\n",
      "('Stibbons Ponder', 'Tennis Court 1')\n",
      "('Stibbons Ponder', 'Tennis Court 2')\n",
      "('Tracy Burton', 'Tennis Court 1')\n",
      "('Tracy Burton', 'Tennis Court 2')\n"
     ]
    }
   ],
   "source": [
    "query = (\"SELECT  DISTINCT CONCAT(m.surname , ' ' ,  m.firstname) as member_name, f.name as facility_name \\\n",
    "         FROM Members m \\\n",
    "         JOIN Bookings b on b.memid = m.memid \\\n",
    "         JOIN Facilities f on f.facid = b.facid \\\n",
    "         WHERE f.name LIKE 'Tennis Court %' \\\n",
    "         ORDER BY member_name\")\n",
    "\n",
    "cursor.execute(query)\n",
    "for x in cursor:\n",
    "    print(x)"
   ]
  },
  {
   "cell_type": "markdown",
   "metadata": {},
   "source": [
    "#### Q8: How can you produce a list of bookings on the day of 2012-09-14 which will cost the member (or guest) more than $30? Remember that guests have different costs to members (the listed costs are per half-hour 'slot'), and the guest user's ID is always 0. Include in your output the name of the facility, the name of the member formatted as a single column, and the cost. Order by descending cost, and do not use any subqueries."
   ]
  },
  {
   "cell_type": "code",
   "execution_count": 21,
   "metadata": {},
   "outputs": [
    {
     "name": "stdout",
     "output_type": "stream",
     "text": [
      "('GUEST GUEST', 'Massage Room 2', Decimal('320.0'))\n",
      "('GUEST GUEST', 'Massage Room 1', Decimal('160.0'))\n",
      "('GUEST GUEST', 'Massage Room 1', Decimal('160.0'))\n",
      "('GUEST GUEST', 'Massage Room 1', Decimal('160.0'))\n",
      "('GUEST GUEST', 'Tennis Court 2', Decimal('150.0'))\n",
      "('GUEST GUEST', 'Tennis Court 1', Decimal('75.0'))\n",
      "('GUEST GUEST', 'Tennis Court 1', Decimal('75.0'))\n",
      "('GUEST GUEST', 'Tennis Court 2', Decimal('75.0'))\n",
      "('GUEST GUEST', 'Squash Court', Decimal('70.0'))\n",
      "('Farrell Jemima', 'Massage Room 1', Decimal('39.6'))\n",
      "('GUEST GUEST', 'Squash Court', Decimal('35.0'))\n",
      "('GUEST GUEST', 'Squash Court', Decimal('35.0'))\n"
     ]
    }
   ],
   "source": [
    "query = (\n",
    "\"SELECT  CONCAT(m.surname , ' ' ,  m.firstname) as member_name, f.name as facility_name, \\\n",
    "CASE   \\\n",
    "        WHEN m.memid = 0 THEN f.guestcost * b.slots \\\n",
    "        ELSE f.membercost * b.slots \\\n",
    "    END \\\n",
    "as cost \\\n",
    "FROM Members m \\\n",
    "JOIN Bookings b on b.memid = m.memid \\\n",
    "JOIN Facilities f on f.facid = b.facid \\\n",
    "WHERE b.starttime LIKE ('2012-09-14 %') \\\n",
    "HAVING cost > 30 \\\n",
    "ORDER BY cost DESC\")\n",
    "\n",
    "cursor.execute(query)\n",
    "for x in cursor:\n",
    "    print(x)"
   ]
  },
  {
   "cell_type": "markdown",
   "metadata": {},
   "source": [
    "#### Q9: This time, produce the same result as in Q8, but using a subquery"
   ]
  },
  {
   "cell_type": "code",
   "execution_count": 22,
   "metadata": {},
   "outputs": [
    {
     "name": "stdout",
     "output_type": "stream",
     "text": [
      "('GUEST GUEST', 'Massage Room 2', Decimal('320.0'))\n",
      "('GUEST GUEST', 'Massage Room 1', Decimal('160.0'))\n",
      "('GUEST GUEST', 'Massage Room 1', Decimal('160.0'))\n",
      "('GUEST GUEST', 'Massage Room 1', Decimal('160.0'))\n",
      "('GUEST GUEST', 'Tennis Court 2', Decimal('150.0'))\n",
      "('GUEST GUEST', 'Tennis Court 1', Decimal('75.0'))\n",
      "('GUEST GUEST', 'Tennis Court 1', Decimal('75.0'))\n",
      "('GUEST GUEST', 'Tennis Court 2', Decimal('75.0'))\n",
      "('GUEST GUEST', 'Squash Court', Decimal('70.0'))\n",
      "('Farrell Jemima', 'Massage Room 1', Decimal('39.6'))\n",
      "('GUEST GUEST', 'Squash Court', Decimal('35.0'))\n",
      "('GUEST GUEST', 'Squash Court', Decimal('35.0'))\n"
     ]
    }
   ],
   "source": [
    "query = (\n",
    "\"SELECT  CONCAT(m.surname , ' ' ,  m.firstname) as member_name, subquery.facility_name, subquery.cost \\\n",
    "FROM \\\n",
    "(SELECT b.memid, f.name as facility_name, b.starttime, \\\n",
    "CASE    \\\n",
    "        WHEN b.memid = 0 THEN f.guestcost * b.slots \\\n",
    "        ELSE f.membercost * b.slots \\\n",
    "    END \\\n",
    "as cost \\\n",
    "FROM Bookings b \\\n",
    "JOIN Facilities f on f.facid = b.facid \\\n",
    ") as subquery \\\n",
    "JOIN Members m on  subquery.memid = m.memid \\\n",
    "WHERE subquery.starttime LIKE ('2012-09-14 %') \\\n",
    "HAVING subquery.cost > 30 \\\n",
    "ORDER BY subquery.cost DESC\")\n",
    "\n",
    "cursor.execute(query)\n",
    "for x in cursor:\n",
    "    print(x)"
   ]
  },
  {
   "cell_type": "markdown",
   "metadata": {},
   "source": [
    "#### Q10: Produce a list of facilities with a total revenue less than 1000. The output of facility name and total revenue, sorted by revenue. Remember that there's a different cost for guests and members! "
   ]
  },
  {
   "cell_type": "code",
   "execution_count": 23,
   "metadata": {},
   "outputs": [
    {
     "name": "stdout",
     "output_type": "stream",
     "text": [
      "('Table Tennis', Decimal('180.0'))\n",
      "('Snooker Table', Decimal('240.0'))\n",
      "('Pool Table', Decimal('270.0'))\n"
     ]
    }
   ],
   "source": [
    "query = (\n",
    "\"SELECT f.name as facility_name, sum( \\\n",
    "CASE    \\\n",
    "        WHEN m.memid = 0 THEN f.guestcost * b.slots \\\n",
    "        ELSE f.membercost * b.slots \\\n",
    "    END \\\n",
    " ) as revenue \\\n",
    "FROM Members m \\\n",
    "JOIN Bookings b on b.memid = m.memid \\\n",
    "JOIN Facilities f on f.facid = b.facid \\\n",
    "GROUP BY facility_name \\\n",
    "HAVING revenue < 1000 \\\n",
    "ORDER BY revenue \")\n",
    "\n",
    "cursor.execute(query)\n",
    "for x in cursor:\n",
    "    print(x)\n"
   ]
  },
  {
   "cell_type": "code",
   "execution_count": null,
   "metadata": {},
   "outputs": [],
   "source": []
  }
 ],
 "metadata": {
  "kernelspec": {
   "display_name": "Python 3",
   "language": "python",
   "name": "python3"
  },
  "language_info": {
   "codemirror_mode": {
    "name": "ipython",
    "version": 3
   },
   "file_extension": ".py",
   "mimetype": "text/x-python",
   "name": "python",
   "nbconvert_exporter": "python",
   "pygments_lexer": "ipython3",
   "version": "3.7.4"
  }
 },
 "nbformat": 4,
 "nbformat_minor": 2
}
